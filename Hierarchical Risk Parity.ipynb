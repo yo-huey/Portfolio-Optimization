{
 "cells": [
  {
   "cell_type": "code",
   "execution_count": 31,
   "id": "7f5d500a",
   "metadata": {},
   "outputs": [],
   "source": [
    "# Import libraries\n",
    "import numpy as np\n",
    "import pandas as pd\n",
    "import matplotlib.pyplot as plt\n",
    "import yfinance as yf\n",
    "import pypfopt\n",
    "%matplotlib inline\n",
    "plt.rcParams['figure.figsize'] = [15, 10]"
   ]
  },
  {
   "cell_type": "code",
   "execution_count": 32,
   "id": "6df87709",
   "metadata": {},
   "outputs": [],
   "source": [
    "# Get stock tickers\n",
    "tickers = ['PLTR', 'ATVI', 'NIO', 'NEGG', 'AAPL', 'LOVE', 'JYNT', 'CELH', 'AMD', 'SOFI']"
   ]
  },
  {
   "cell_type": "code",
   "execution_count": 33,
   "id": "9c8f1b78",
   "metadata": {},
   "outputs": [
    {
     "name": "stdout",
     "output_type": "stream",
     "text": [
      "[*********************100%***********************]  10 of 10 completed\n"
     ]
    },
    {
     "data": {
      "text/html": [
       "<div>\n",
       "<style scoped>\n",
       "    .dataframe tbody tr th:only-of-type {\n",
       "        vertical-align: middle;\n",
       "    }\n",
       "\n",
       "    .dataframe tbody tr th {\n",
       "        vertical-align: top;\n",
       "    }\n",
       "\n",
       "    .dataframe thead th {\n",
       "        text-align: right;\n",
       "    }\n",
       "</style>\n",
       "<table border=\"1\" class=\"dataframe\">\n",
       "  <thead>\n",
       "    <tr style=\"text-align: right;\">\n",
       "      <th></th>\n",
       "      <th>AAPL</th>\n",
       "      <th>AMD</th>\n",
       "      <th>ATVI</th>\n",
       "      <th>CELH</th>\n",
       "      <th>JYNT</th>\n",
       "      <th>LOVE</th>\n",
       "      <th>NEGG</th>\n",
       "      <th>NIO</th>\n",
       "      <th>PLTR</th>\n",
       "      <th>SOFI</th>\n",
       "    </tr>\n",
       "    <tr>\n",
       "      <th>Date</th>\n",
       "      <th></th>\n",
       "      <th></th>\n",
       "      <th></th>\n",
       "      <th></th>\n",
       "      <th></th>\n",
       "      <th></th>\n",
       "      <th></th>\n",
       "      <th></th>\n",
       "      <th></th>\n",
       "      <th></th>\n",
       "    </tr>\n",
       "  </thead>\n",
       "  <tbody>\n",
       "    <tr>\n",
       "      <th>2021-10-04</th>\n",
       "      <td>139.139999</td>\n",
       "      <td>100.339996</td>\n",
       "      <td>77.180000</td>\n",
       "      <td>90.620003</td>\n",
       "      <td>91.820000</td>\n",
       "      <td>65.800003</td>\n",
       "      <td>13.22</td>\n",
       "      <td>33.400002</td>\n",
       "      <td>23.170000</td>\n",
       "      <td>16.090000</td>\n",
       "    </tr>\n",
       "    <tr>\n",
       "      <th>2021-10-05</th>\n",
       "      <td>141.110001</td>\n",
       "      <td>101.809998</td>\n",
       "      <td>76.800003</td>\n",
       "      <td>94.919998</td>\n",
       "      <td>95.080002</td>\n",
       "      <td>70.809998</td>\n",
       "      <td>13.77</td>\n",
       "      <td>33.869999</td>\n",
       "      <td>23.209999</td>\n",
       "      <td>16.250000</td>\n",
       "    </tr>\n",
       "    <tr>\n",
       "      <th>2021-10-06</th>\n",
       "      <td>142.000000</td>\n",
       "      <td>103.639999</td>\n",
       "      <td>77.290001</td>\n",
       "      <td>94.459999</td>\n",
       "      <td>96.419998</td>\n",
       "      <td>72.150002</td>\n",
       "      <td>13.87</td>\n",
       "      <td>33.660000</td>\n",
       "      <td>23.580000</td>\n",
       "      <td>16.620001</td>\n",
       "    </tr>\n",
       "    <tr>\n",
       "      <th>2021-10-07</th>\n",
       "      <td>143.289993</td>\n",
       "      <td>106.449997</td>\n",
       "      <td>77.360001</td>\n",
       "      <td>97.620003</td>\n",
       "      <td>85.529999</td>\n",
       "      <td>71.320000</td>\n",
       "      <td>14.19</td>\n",
       "      <td>35.990002</td>\n",
       "      <td>23.730000</td>\n",
       "      <td>16.400000</td>\n",
       "    </tr>\n",
       "    <tr>\n",
       "      <th>2021-10-08</th>\n",
       "      <td>142.899994</td>\n",
       "      <td>105.059998</td>\n",
       "      <td>77.610001</td>\n",
       "      <td>94.099998</td>\n",
       "      <td>80.099998</td>\n",
       "      <td>71.830002</td>\n",
       "      <td>13.63</td>\n",
       "      <td>35.830002</td>\n",
       "      <td>23.500000</td>\n",
       "      <td>16.209999</td>\n",
       "    </tr>\n",
       "  </tbody>\n",
       "</table>\n",
       "</div>"
      ],
      "text/plain": [
       "                  AAPL         AMD       ATVI       CELH       JYNT  \\\n",
       "Date                                                                  \n",
       "2021-10-04  139.139999  100.339996  77.180000  90.620003  91.820000   \n",
       "2021-10-05  141.110001  101.809998  76.800003  94.919998  95.080002   \n",
       "2021-10-06  142.000000  103.639999  77.290001  94.459999  96.419998   \n",
       "2021-10-07  143.289993  106.449997  77.360001  97.620003  85.529999   \n",
       "2021-10-08  142.899994  105.059998  77.610001  94.099998  80.099998   \n",
       "\n",
       "                 LOVE   NEGG        NIO       PLTR       SOFI  \n",
       "Date                                                           \n",
       "2021-10-04  65.800003  13.22  33.400002  23.170000  16.090000  \n",
       "2021-10-05  70.809998  13.77  33.869999  23.209999  16.250000  \n",
       "2021-10-06  72.150002  13.87  33.660000  23.580000  16.620001  \n",
       "2021-10-07  71.320000  14.19  35.990002  23.730000  16.400000  \n",
       "2021-10-08  71.830002  13.63  35.830002  23.500000  16.209999  "
      ]
     },
     "execution_count": 33,
     "metadata": {},
     "output_type": "execute_result"
    }
   ],
   "source": [
    "# Get the adjusted closing price of the stocks\n",
    "df = yf.download(tickers, period='max')\n",
    "prices = df['Adj Close']\n",
    "prices.tail()"
   ]
  },
  {
   "cell_type": "code",
   "execution_count": 34,
   "id": "da61a76b",
   "metadata": {},
   "outputs": [
    {
     "data": {
      "text/html": [
       "<div>\n",
       "<style scoped>\n",
       "    .dataframe tbody tr th:only-of-type {\n",
       "        vertical-align: middle;\n",
       "    }\n",
       "\n",
       "    .dataframe tbody tr th {\n",
       "        vertical-align: top;\n",
       "    }\n",
       "\n",
       "    .dataframe thead th {\n",
       "        text-align: right;\n",
       "    }\n",
       "</style>\n",
       "<table border=\"1\" class=\"dataframe\">\n",
       "  <thead>\n",
       "    <tr style=\"text-align: right;\">\n",
       "      <th></th>\n",
       "      <th>AAPL</th>\n",
       "      <th>AMD</th>\n",
       "      <th>ATVI</th>\n",
       "      <th>CELH</th>\n",
       "      <th>JYNT</th>\n",
       "      <th>LOVE</th>\n",
       "      <th>NEGG</th>\n",
       "      <th>NIO</th>\n",
       "      <th>PLTR</th>\n",
       "      <th>SOFI</th>\n",
       "    </tr>\n",
       "    <tr>\n",
       "      <th>Date</th>\n",
       "      <th></th>\n",
       "      <th></th>\n",
       "      <th></th>\n",
       "      <th></th>\n",
       "      <th></th>\n",
       "      <th></th>\n",
       "      <th></th>\n",
       "      <th></th>\n",
       "      <th></th>\n",
       "      <th></th>\n",
       "    </tr>\n",
       "  </thead>\n",
       "  <tbody>\n",
       "    <tr>\n",
       "      <th>2021-10-04</th>\n",
       "      <td>-0.024606</td>\n",
       "      <td>-0.020595</td>\n",
       "      <td>-0.017191</td>\n",
       "      <td>-0.037902</td>\n",
       "      <td>-0.042744</td>\n",
       "      <td>-0.034766</td>\n",
       "      <td>-0.028655</td>\n",
       "      <td>-0.055964</td>\n",
       "      <td>-0.047678</td>\n",
       "      <td>-0.021885</td>\n",
       "    </tr>\n",
       "    <tr>\n",
       "      <th>2021-10-05</th>\n",
       "      <td>0.014158</td>\n",
       "      <td>0.014650</td>\n",
       "      <td>-0.004924</td>\n",
       "      <td>0.047451</td>\n",
       "      <td>0.035504</td>\n",
       "      <td>0.076140</td>\n",
       "      <td>0.041604</td>\n",
       "      <td>0.014072</td>\n",
       "      <td>0.001726</td>\n",
       "      <td>0.009944</td>\n",
       "    </tr>\n",
       "    <tr>\n",
       "      <th>2021-10-06</th>\n",
       "      <td>0.006307</td>\n",
       "      <td>0.017975</td>\n",
       "      <td>0.006380</td>\n",
       "      <td>-0.004846</td>\n",
       "      <td>0.014093</td>\n",
       "      <td>0.018924</td>\n",
       "      <td>0.007262</td>\n",
       "      <td>-0.006200</td>\n",
       "      <td>0.015941</td>\n",
       "      <td>0.022769</td>\n",
       "    </tr>\n",
       "    <tr>\n",
       "      <th>2021-10-07</th>\n",
       "      <td>0.009084</td>\n",
       "      <td>0.027113</td>\n",
       "      <td>0.000906</td>\n",
       "      <td>0.033453</td>\n",
       "      <td>-0.112943</td>\n",
       "      <td>-0.011504</td>\n",
       "      <td>0.023071</td>\n",
       "      <td>0.069222</td>\n",
       "      <td>0.006361</td>\n",
       "      <td>-0.013237</td>\n",
       "    </tr>\n",
       "    <tr>\n",
       "      <th>2021-10-08</th>\n",
       "      <td>-0.002722</td>\n",
       "      <td>-0.013058</td>\n",
       "      <td>0.003232</td>\n",
       "      <td>-0.036058</td>\n",
       "      <td>-0.063487</td>\n",
       "      <td>0.007151</td>\n",
       "      <td>-0.039464</td>\n",
       "      <td>-0.004446</td>\n",
       "      <td>-0.009692</td>\n",
       "      <td>-0.011585</td>\n",
       "    </tr>\n",
       "  </tbody>\n",
       "</table>\n",
       "</div>"
      ],
      "text/plain": [
       "                AAPL       AMD      ATVI      CELH      JYNT      LOVE  \\\n",
       "Date                                                                     \n",
       "2021-10-04 -0.024606 -0.020595 -0.017191 -0.037902 -0.042744 -0.034766   \n",
       "2021-10-05  0.014158  0.014650 -0.004924  0.047451  0.035504  0.076140   \n",
       "2021-10-06  0.006307  0.017975  0.006380 -0.004846  0.014093  0.018924   \n",
       "2021-10-07  0.009084  0.027113  0.000906  0.033453 -0.112943 -0.011504   \n",
       "2021-10-08 -0.002722 -0.013058  0.003232 -0.036058 -0.063487  0.007151   \n",
       "\n",
       "                NEGG       NIO      PLTR      SOFI  \n",
       "Date                                                \n",
       "2021-10-04 -0.028655 -0.055964 -0.047678 -0.021885  \n",
       "2021-10-05  0.041604  0.014072  0.001726  0.009944  \n",
       "2021-10-06  0.007262 -0.006200  0.015941  0.022769  \n",
       "2021-10-07  0.023071  0.069222  0.006361 -0.013237  \n",
       "2021-10-08 -0.039464 -0.004446 -0.009692 -0.011585  "
      ]
     },
     "execution_count": 34,
     "metadata": {},
     "output_type": "execute_result"
    }
   ],
   "source": [
    "from pypfopt import expected_returns\n",
    "from pypfopt import plotting\n",
    "\n",
    "rets = expected_returns.returns_from_prices(prices)\n",
    "rets.tail()"
   ]
  },
  {
   "cell_type": "code",
   "execution_count": 35,
   "id": "5b26e8b6",
   "metadata": {},
   "outputs": [],
   "source": [
    "from pypfopt import HRPOpt"
   ]
  },
  {
   "cell_type": "code",
   "execution_count": 36,
   "id": "3fd255d0",
   "metadata": {},
   "outputs": [
    {
     "data": {
      "text/plain": [
       "OrderedDict([('AAPL', 0.19637),\n",
       "             ('AMD', 0.11301),\n",
       "             ('ATVI', 0.23409),\n",
       "             ('CELH', 0.03185),\n",
       "             ('JYNT', 0.15539),\n",
       "             ('LOVE', 0.06455),\n",
       "             ('NEGG', 0.04023),\n",
       "             ('NIO', 0.04321),\n",
       "             ('PLTR', 0.0679),\n",
       "             ('SOFI', 0.0534)])"
      ]
     },
     "execution_count": 36,
     "metadata": {},
     "output_type": "execute_result"
    }
   ],
   "source": [
    "hrp = HRPOpt(rets)\n",
    "hrp.optimize()\n",
    "weights = hrp.clean_weights()\n",
    "weights"
   ]
  },
  {
   "cell_type": "code",
   "execution_count": 37,
   "id": "0b6fc547",
   "metadata": {},
   "outputs": [
    {
     "data": {
      "image/png": "[encoded data removed]",
      "text/plain": [
       "<Figure size 1080x720 with 1 Axes>"
      ]
     },
     "metadata": {},
     "output_type": "display_data"
    }
   ],
   "source": [
    "pd.Series(weights).plot.pie();"
   ]
  },
  {
   "cell_type": "code",
   "execution_count": 38,
   "id": "5293272f",
   "metadata": {},
   "outputs": [
    {
     "name": "stdout",
     "output_type": "stream",
     "text": [
      "Expected annual return: 50.5%\n",
      "Annual volatility: 31.2%\n",
      "Sharpe Ratio: 1.55\n"
     ]
    }
   ],
   "source": [
    "hrp.portfolio_performance(verbose=True);"
   ]
  },
  {
   "cell_type": "code",
   "execution_count": 39,
   "id": "dd3bb114",
   "metadata": {},
   "outputs": [
    {
     "data": {
      "image/png": "[encoded data removed]",
      "text/plain": [
       "<Figure size 1080x720 with 1 Axes>"
      ]
     },
     "metadata": {
      "needs_background": "light"
     },
     "output_type": "display_data"
    }
   ],
   "source": [
    "plotting.plot_dendrogram(hrp);"
   ]
  },
  {
   "cell_type": "code",
   "execution_count": 40,
   "id": "6a4ede2e",
   "metadata": {},
   "outputs": [
    {
     "name": "stdout",
     "output_type": "stream",
     "text": [
      "Leftover: $1.28\n"
     ]
    },
    {
     "data": {
      "text/plain": [
       "{'AAPL': 3,\n",
       " 'AMD': 2,\n",
       " 'ATVI': 6,\n",
       " 'CELH': 1,\n",
       " 'JYNT': 4,\n",
       " 'LOVE': 1,\n",
       " 'NEGG': 6,\n",
       " 'NIO': 2,\n",
       " 'PLTR': 6,\n",
       " 'SOFI': 7}"
      ]
     },
     "execution_count": 40,
     "metadata": {},
     "output_type": "execute_result"
    }
   ],
   "source": [
    "from pypfopt import DiscreteAllocation\n",
    "\n",
    "latest_prices = prices.iloc[-1]\n",
    "da = DiscreteAllocation(weights, latest_prices, total_portfolio_value=2000)\n",
    "alloc, leftover = da.lp_portfolio()\n",
    "print(f\"Leftover: ${leftover:.2f}\")\n",
    "alloc"
   ]
  }
 ],
 "metadata": {
  "kernelspec": {
   "display_name": "Python 3",
   "language": "python",
   "name": "python3"
  },
  "language_info": {
   "codemirror_mode": {
    "name": "ipython",
    "version": 3
   },
   "file_extension": ".py",
   "mimetype": "text/x-python",
   "name": "python",
   "nbconvert_exporter": "python",
   "pygments_lexer": "ipython3",
   "version": "3.8.11"
  }
 },
 "nbformat": 4,
 "nbformat_minor": 5
}
