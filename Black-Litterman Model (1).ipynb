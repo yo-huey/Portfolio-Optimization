{
 "cells": [
  {
   "cell_type": "markdown",
   "id": "8eca1329",
   "metadata": {},
   "source": [
    "# Black-Litterman model\n",
    "\n",
    "An asset allocation model which is considered to be an adaptation of Modern Portfolio Theory, which only included market historical data, and constructs portfolios based on those returns.\n",
    "\n",
    "This model instead takes into account the investor's views of the asset's future performance, and constructs more optimal portfolios with those performance views."
   ]
  },
  {
   "cell_type": "markdown",
   "id": "555d1348",
   "metadata": {},
   "source": [
    "## Download stock data"
   ]
  },
  {
   "cell_type": "code",
   "execution_count": 39,
   "id": "eb98748e",
   "metadata": {
    "scrolled": false
   },
   "outputs": [],
   "source": [
    "# Import libraries\n",
    "import numpy as np\n",
    "import pandas as pd\n",
    "import matplotlib.pyplot as plt\n",
    "import yfinance as yf\n",
    "%matplotlib inline\n",
    "plt.rcParams['figure.figsize'] = [15, 10]\n",
    "\n",
    "import warnings\n",
    "warnings.filterwarnings('ignore')"
   ]
  },
  {
   "cell_type": "code",
   "execution_count": 40,
   "id": "fffa7c72",
   "metadata": {},
   "outputs": [],
   "source": [
    "# Get the stock tickers\n",
    "tickers = ['PLTR', 'ATVI', 'NIO', 'NEGG', 'AAPL', 'LOVE', 'JYNT', 'CELH', 'AMD', 'SOFI']"
   ]
  },
  {
   "cell_type": "code",
   "execution_count": 41,
   "id": "71bf99a6",
   "metadata": {
    "scrolled": false
   },
   "outputs": [
    {
     "name": "stdout",
     "output_type": "stream",
     "text": [
      "[*********************100%***********************]  10 of 10 completed\n"
     ]
    },
    {
     "data": {
      "text/html": [
       "<div>\n",
       "<style scoped>\n",
       "    .dataframe tbody tr th:only-of-type {\n",
       "        vertical-align: middle;\n",
       "    }\n",
       "\n",
       "    .dataframe tbody tr th {\n",
       "        vertical-align: top;\n",
       "    }\n",
       "\n",
       "    .dataframe thead th {\n",
       "        text-align: right;\n",
       "    }\n",
       "</style>\n",
       "<table border=\"1\" class=\"dataframe\">\n",
       "  <thead>\n",
       "    <tr style=\"text-align: right;\">\n",
       "      <th></th>\n",
       "      <th>AAPL</th>\n",
       "      <th>AMD</th>\n",
       "      <th>ATVI</th>\n",
       "      <th>CELH</th>\n",
       "      <th>JYNT</th>\n",
       "      <th>LOVE</th>\n",
       "      <th>NEGG</th>\n",
       "      <th>NIO</th>\n",
       "      <th>PLTR</th>\n",
       "      <th>SOFI</th>\n",
       "    </tr>\n",
       "    <tr>\n",
       "      <th>Date</th>\n",
       "      <th></th>\n",
       "      <th></th>\n",
       "      <th></th>\n",
       "      <th></th>\n",
       "      <th></th>\n",
       "      <th></th>\n",
       "      <th></th>\n",
       "      <th></th>\n",
       "      <th></th>\n",
       "      <th></th>\n",
       "    </tr>\n",
       "  </thead>\n",
       "  <tbody>\n",
       "    <tr>\n",
       "      <th>2021-11-19</th>\n",
       "      <td>160.550003</td>\n",
       "      <td>155.410004</td>\n",
       "      <td>62.380001</td>\n",
       "      <td>72.839996</td>\n",
       "      <td>93.699997</td>\n",
       "      <td>82.930000</td>\n",
       "      <td>17.379999</td>\n",
       "      <td>38.660000</td>\n",
       "      <td>21.410000</td>\n",
       "      <td>20.370001</td>\n",
       "    </tr>\n",
       "    <tr>\n",
       "      <th>2021-11-22</th>\n",
       "      <td>161.020004</td>\n",
       "      <td>152.520004</td>\n",
       "      <td>62.200001</td>\n",
       "      <td>73.440002</td>\n",
       "      <td>88.589996</td>\n",
       "      <td>80.959999</td>\n",
       "      <td>17.889999</td>\n",
       "      <td>41.490002</td>\n",
       "      <td>20.650000</td>\n",
       "      <td>18.750000</td>\n",
       "    </tr>\n",
       "    <tr>\n",
       "      <th>2021-11-23</th>\n",
       "      <td>161.410004</td>\n",
       "      <td>149.919998</td>\n",
       "      <td>61.770000</td>\n",
       "      <td>71.599998</td>\n",
       "      <td>84.669998</td>\n",
       "      <td>72.339996</td>\n",
       "      <td>17.500000</td>\n",
       "      <td>42.040001</td>\n",
       "      <td>20.590000</td>\n",
       "      <td>17.809999</td>\n",
       "    </tr>\n",
       "    <tr>\n",
       "      <th>2021-11-24</th>\n",
       "      <td>161.940002</td>\n",
       "      <td>157.800003</td>\n",
       "      <td>60.910000</td>\n",
       "      <td>73.290001</td>\n",
       "      <td>83.489998</td>\n",
       "      <td>72.449997</td>\n",
       "      <td>18.379999</td>\n",
       "      <td>41.419998</td>\n",
       "      <td>21.110001</td>\n",
       "      <td>18.330000</td>\n",
       "    </tr>\n",
       "    <tr>\n",
       "      <th>2021-11-26</th>\n",
       "      <td>156.809998</td>\n",
       "      <td>154.809998</td>\n",
       "      <td>60.619999</td>\n",
       "      <td>71.379997</td>\n",
       "      <td>79.989998</td>\n",
       "      <td>67.519997</td>\n",
       "      <td>19.840000</td>\n",
       "      <td>39.990002</td>\n",
       "      <td>21.030001</td>\n",
       "      <td>18.209999</td>\n",
       "    </tr>\n",
       "  </tbody>\n",
       "</table>\n",
       "</div>"
      ],
      "text/plain": [
       "                  AAPL         AMD       ATVI       CELH       JYNT  \\\n",
       "Date                                                                  \n",
       "2021-11-19  160.550003  155.410004  62.380001  72.839996  93.699997   \n",
       "2021-11-22  161.020004  152.520004  62.200001  73.440002  88.589996   \n",
       "2021-11-23  161.410004  149.919998  61.770000  71.599998  84.669998   \n",
       "2021-11-24  161.940002  157.800003  60.910000  73.290001  83.489998   \n",
       "2021-11-26  156.809998  154.809998  60.619999  71.379997  79.989998   \n",
       "\n",
       "                 LOVE       NEGG        NIO       PLTR       SOFI  \n",
       "Date                                                               \n",
       "2021-11-19  82.930000  17.379999  38.660000  21.410000  20.370001  \n",
       "2021-11-22  80.959999  17.889999  41.490002  20.650000  18.750000  \n",
       "2021-11-23  72.339996  17.500000  42.040001  20.590000  17.809999  \n",
       "2021-11-24  72.449997  18.379999  41.419998  21.110001  18.330000  \n",
       "2021-11-26  67.519997  19.840000  39.990002  21.030001  18.209999  "
      ]
     },
     "execution_count": 41,
     "metadata": {},
     "output_type": "execute_result"
    }
   ],
   "source": [
    "# Download the adjusted closing prices of the stocks\n",
    "df = yf.download(tickers, period='max')\n",
    "prices = df['Adj Close']\n",
    "prices.tail()"
   ]
  },
  {
   "cell_type": "code",
   "execution_count": 42,
   "id": "f3d53b04",
   "metadata": {},
   "outputs": [
    {
     "name": "stdout",
     "output_type": "stream",
     "text": [
      "[*********************100%***********************]  1 of 1 completed\n"
     ]
    },
    {
     "data": {
      "text/plain": [
       "Date\n",
       "1993-01-29    25.717388\n",
       "1993-02-01    25.900282\n",
       "1993-02-02    25.955172\n",
       "1993-02-03    26.229536\n",
       "1993-02-04    26.339277\n",
       "Name: Adj Close, dtype: float64"
      ]
     },
     "execution_count": 42,
     "metadata": {},
     "output_type": "execute_result"
    }
   ],
   "source": [
    "# Get the Adjusted closing price of the S&P 500\n",
    "market_prices = yf.download('SPY', period='max')['Adj Close']\n",
    "market_prices.head()"
   ]
  },
  {
   "cell_type": "code",
   "execution_count": 43,
   "id": "ccf4e8df",
   "metadata": {},
   "outputs": [],
   "source": [
    "# Download data containing market caps of all the stocks \n",
    "from pandas_datareader import data\n",
    "\n",
    "mcaps = data.get_quote_yahoo(tickers)['marketCap']"
   ]
  },
  {
   "cell_type": "code",
   "execution_count": 44,
   "id": "59b6cf75",
   "metadata": {},
   "outputs": [
    {
     "data": {
      "text/plain": [
       "PLTR      42161364992\n",
       "ATVI      47442120704\n",
       "NIO       63606894592\n",
       "NEGG       7314274304\n",
       "AAPL    2572687507456\n",
       "LOVE       1020801088\n",
       "JYNT       1152919808\n",
       "CELH       5340301824\n",
       "AMD      186950090752\n",
       "SOFI      14561261568\n",
       "Name: marketCap, dtype: int64"
      ]
     },
     "execution_count": 44,
     "metadata": {},
     "output_type": "execute_result"
    }
   ],
   "source": [
    "mcaps"
   ]
  },
  {
   "cell_type": "markdown",
   "id": "49e695e4",
   "metadata": {},
   "source": [
    "## Getting market-implied returns"
   ]
  },
  {
   "cell_type": "code",
   "execution_count": 45,
   "id": "ee7f6bd4",
   "metadata": {},
   "outputs": [],
   "source": [
    "import pypfopt\n",
    "from pypfopt import black_litterman, risk_models\n",
    "from pypfopt import BlackLittermanModel, plotting"
   ]
  },
  {
   "cell_type": "code",
   "execution_count": 46,
   "id": "fd67e077",
   "metadata": {},
   "outputs": [
    {
     "data": {
      "text/plain": [
       "2.78418583200132"
      ]
     },
     "execution_count": 46,
     "metadata": {},
     "output_type": "execute_result"
    }
   ],
   "source": [
    "# Get the market-implied risk aversion parameter\n",
    "# Use the Ledoit-Wolf shrinkage estimator\n",
    "\n",
    "S = risk_models.CovarianceShrinkage(prices).ledoit_wolf()\n",
    "delta = black_litterman.market_implied_risk_aversion(market_prices)\n",
    "delta"
   ]
  },
  {
   "cell_type": "code",
   "execution_count": 47,
   "id": "0d1a21c6",
   "metadata": {
    "scrolled": false
   },
   "outputs": [
    {
     "data": {
      "text/plain": [
       "<AxesSubplot:>"
      ]
     },
     "execution_count": 47,
     "metadata": {},
     "output_type": "execute_result"
    },
    {
     "data": {
      "image/png": "[encoded data removed]",
      "text/plain": [
       "<Figure size 1080x720 with 2 Axes>"
      ]
     },
     "metadata": {
      "needs_background": "light"
     },
     "output_type": "display_data"
    }
   ],
   "source": [
    "# Plot the covariance matrix\n",
    "plotting.plot_covariance(S, plot_correlation=True)"
   ]
  },
  {
   "cell_type": "code",
   "execution_count": 48,
   "id": "53a696fe",
   "metadata": {
    "scrolled": true
   },
   "outputs": [
    {
     "data": {
      "text/plain": [
       "AAPL    0.544460\n",
       "AMD     0.312721\n",
       "ATVI    0.128651\n",
       "CELH    0.077016\n",
       "JYNT    0.054217\n",
       "LOVE    0.056538\n",
       "NEGG    0.052571\n",
       "NIO     0.062654\n",
       "PLTR    0.044729\n",
       "SOFI    0.043005\n",
       "dtype: float64"
      ]
     },
     "execution_count": 48,
     "metadata": {},
     "output_type": "execute_result"
    }
   ],
   "source": [
    "# Get the prior estimate of returns implied by market weights \n",
    "market_prior = black_litterman.market_implied_prior_returns(mcaps, delta, S, risk_free_rate=0.04)\n",
    "market_prior"
   ]
  },
  {
   "cell_type": "code",
   "execution_count": 49,
   "id": "15be5908",
   "metadata": {},
   "outputs": [
    {
     "data": {
      "image/png": "[encoded data removed]",
      "text/plain": [
       "<Figure size 1080x720 with 1 Axes>"
      ]
     },
     "metadata": {
      "needs_background": "light"
     },
     "output_type": "display_data"
    }
   ],
   "source": [
    "# PLot the market-implied returns\n",
    "market_prior.plot.barh();"
   ]
  },
  {
   "cell_type": "markdown",
   "id": "aaaa81e9",
   "metadata": {},
   "source": [
    "## Provide absolute views of assets' performance"
   ]
  },
  {
   "cell_type": "code",
   "execution_count": 50,
   "id": "7fa2c57c",
   "metadata": {},
   "outputs": [],
   "source": [
    "viewdict = {\n",
    "    'AAPL':0.6,\n",
    "    'PLTR':0.2,\n",
    "    'ATVI':0.2,\n",
    "    'JYNT':0.2,\n",
    "    'LOVE':0.2,\n",
    "    'NEGG':0.2,\n",
    "    'NIO':0.1,\n",
    "    'CELH':0.1,\n",
    "    'AMD':0.2\n",
    "    \n",
    "}"
   ]
  },
  {
   "cell_type": "code",
   "execution_count": 51,
   "id": "6619e6d8",
   "metadata": {},
   "outputs": [],
   "source": [
    "# Provide confidence percentages of asset performance\n",
    "confidences = [\n",
    "    0.8,\n",
    "    0.6,\n",
    "    0.6,\n",
    "    0.7,\n",
    "    0.4,\n",
    "    0.6,\n",
    "    0.4,\n",
    "    0.4,\n",
    "    0.5\n",
    "]\n"
   ]
  },
  {
   "cell_type": "code",
   "execution_count": 52,
   "id": "3538ae6f",
   "metadata": {},
   "outputs": [],
   "source": [
    "# Input the Black-Litterman model \n",
    "bl = BlackLittermanModel(S, pi=market_prior, absolute_views=viewdict, omega='idzorek',\n",
    "                         view_confidences=confidences)"
   ]
  },
  {
   "cell_type": "code",
   "execution_count": 53,
   "id": "2ff9dd8a",
   "metadata": {},
   "outputs": [
    {
     "data": {
      "image/png": "[encoded data removed]",
      "text/plain": [
       "<Figure size 720x720 with 1 Axes>"
      ]
     },
     "metadata": {
      "needs_background": "light"
     },
     "output_type": "display_data"
    }
   ],
   "source": [
    "# Show the uncertainty matrix\n",
    "fig, ax = plt.subplots(figsize=(10,10))\n",
    "im = ax.imshow(bl.omega)\n",
    "\n",
    "# show all ticks\n",
    "ax.set_xticks(np.arange(len(bl.tickers)))\n",
    "ax.set_yticks(np.arange(len(bl.tickers)))\n",
    "\n",
    "ax.set_xticklabels(bl.tickers)\n",
    "ax.set_yticklabels(bl.tickers)\n",
    "plt.show()"
   ]
  },
  {
   "cell_type": "code",
   "execution_count": 54,
   "id": "a4cd3e71",
   "metadata": {},
   "outputs": [
    {
     "data": {
      "text/plain": [
       "array([0.00250304, 0.00074213, 0.00629457, 0.00126096, 0.00500828,\n",
       "       0.01508783, 0.00629693, 0.0505891 , 0.01754842])"
      ]
     },
     "execution_count": 54,
     "metadata": {},
     "output_type": "execute_result"
    }
   ],
   "source": [
    "np.diag(bl.omega)"
   ]
  },
  {
   "cell_type": "markdown",
   "id": "b5df6e98",
   "metadata": {},
   "source": [
    "## Posterior Estimates\n",
    "\n",
    "Compute posterior estimate of returns"
   ]
  },
  {
   "cell_type": "code",
   "execution_count": 55,
   "id": "885da07a",
   "metadata": {},
   "outputs": [
    {
     "data": {
      "text/plain": [
       "AAPL    0.589781\n",
       "AMD     0.281453\n",
       "ATVI    0.173057\n",
       "CELH    0.105913\n",
       "JYNT    0.160148\n",
       "LOVE    0.130701\n",
       "NEGG    0.147241\n",
       "NIO     0.098949\n",
       "PLTR    0.139626\n",
       "SOFI    0.058895\n",
       "dtype: float64"
      ]
     },
     "execution_count": 55,
     "metadata": {},
     "output_type": "execute_result"
    }
   ],
   "source": [
    "ret_bl = bl.bl_returns()\n",
    "ret_bl"
   ]
  },
  {
   "cell_type": "code",
   "execution_count": 56,
   "id": "0c54c1b9",
   "metadata": {},
   "outputs": [
    {
     "data": {
      "text/html": [
       "<div>\n",
       "<style scoped>\n",
       "    .dataframe tbody tr th:only-of-type {\n",
       "        vertical-align: middle;\n",
       "    }\n",
       "\n",
       "    .dataframe tbody tr th {\n",
       "        vertical-align: top;\n",
       "    }\n",
       "\n",
       "    .dataframe thead th {\n",
       "        text-align: right;\n",
       "    }\n",
       "</style>\n",
       "<table border=\"1\" class=\"dataframe\">\n",
       "  <thead>\n",
       "    <tr style=\"text-align: right;\">\n",
       "      <th></th>\n",
       "      <th>Prior</th>\n",
       "      <th>Posterior</th>\n",
       "      <th>Views</th>\n",
       "    </tr>\n",
       "  </thead>\n",
       "  <tbody>\n",
       "    <tr>\n",
       "      <th>AAPL</th>\n",
       "      <td>0.544460</td>\n",
       "      <td>0.589781</td>\n",
       "      <td>0.6</td>\n",
       "    </tr>\n",
       "    <tr>\n",
       "      <th>AMD</th>\n",
       "      <td>0.312721</td>\n",
       "      <td>0.281453</td>\n",
       "      <td>0.2</td>\n",
       "    </tr>\n",
       "    <tr>\n",
       "      <th>ATVI</th>\n",
       "      <td>0.128651</td>\n",
       "      <td>0.173057</td>\n",
       "      <td>0.2</td>\n",
       "    </tr>\n",
       "    <tr>\n",
       "      <th>CELH</th>\n",
       "      <td>0.077016</td>\n",
       "      <td>0.105913</td>\n",
       "      <td>0.1</td>\n",
       "    </tr>\n",
       "    <tr>\n",
       "      <th>JYNT</th>\n",
       "      <td>0.054217</td>\n",
       "      <td>0.160148</td>\n",
       "      <td>0.2</td>\n",
       "    </tr>\n",
       "    <tr>\n",
       "      <th>LOVE</th>\n",
       "      <td>0.056538</td>\n",
       "      <td>0.130701</td>\n",
       "      <td>0.2</td>\n",
       "    </tr>\n",
       "    <tr>\n",
       "      <th>NEGG</th>\n",
       "      <td>0.052571</td>\n",
       "      <td>0.147241</td>\n",
       "      <td>0.2</td>\n",
       "    </tr>\n",
       "    <tr>\n",
       "      <th>NIO</th>\n",
       "      <td>0.062654</td>\n",
       "      <td>0.098949</td>\n",
       "      <td>0.1</td>\n",
       "    </tr>\n",
       "    <tr>\n",
       "      <th>PLTR</th>\n",
       "      <td>0.044729</td>\n",
       "      <td>0.139626</td>\n",
       "      <td>0.2</td>\n",
       "    </tr>\n",
       "    <tr>\n",
       "      <th>SOFI</th>\n",
       "      <td>0.043005</td>\n",
       "      <td>0.058895</td>\n",
       "      <td>NaN</td>\n",
       "    </tr>\n",
       "  </tbody>\n",
       "</table>\n",
       "</div>"
      ],
      "text/plain": [
       "         Prior  Posterior  Views\n",
       "AAPL  0.544460   0.589781    0.6\n",
       "AMD   0.312721   0.281453    0.2\n",
       "ATVI  0.128651   0.173057    0.2\n",
       "CELH  0.077016   0.105913    0.1\n",
       "JYNT  0.054217   0.160148    0.2\n",
       "LOVE  0.056538   0.130701    0.2\n",
       "NEGG  0.052571   0.147241    0.2\n",
       "NIO   0.062654   0.098949    0.1\n",
       "PLTR  0.044729   0.139626    0.2\n",
       "SOFI  0.043005   0.058895    NaN"
      ]
     },
     "execution_count": 56,
     "metadata": {},
     "output_type": "execute_result"
    }
   ],
   "source": [
    "# Visualize the comparison between prior and posterior views\n",
    "rets_df = pd.DataFrame([market_prior, ret_bl, pd.Series(viewdict)],\n",
    "                      index=['Prior', 'Posterior','Views']).T\n",
    "rets_df"
   ]
  },
  {
   "cell_type": "code",
   "execution_count": 57,
   "id": "cf9f664d",
   "metadata": {},
   "outputs": [
    {
     "data": {
      "image/png": "[encoded data removed]",
      "text/plain": [
       "<Figure size 1080x720 with 1 Axes>"
      ]
     },
     "metadata": {
      "needs_background": "light"
     },
     "output_type": "display_data"
    }
   ],
   "source": [
    "# Plot the above\n",
    "rets_df.plot.bar();"
   ]
  },
  {
   "cell_type": "code",
   "execution_count": 58,
   "id": "e7aea8cd",
   "metadata": {},
   "outputs": [
    {
     "data": {
      "image/png": "[encoded data removed]",
      "text/plain": [
       "<Figure size 1080x720 with 2 Axes>"
      ]
     },
     "metadata": {
      "needs_background": "light"
     },
     "output_type": "display_data"
    }
   ],
   "source": [
    "# Plot covariance matrix\n",
    "S_bl = bl.bl_cov()\n",
    "plotting.plot_covariance(S_bl);"
   ]
  },
  {
   "cell_type": "markdown",
   "id": "b72b8057",
   "metadata": {},
   "source": [
    "# Portfolio Optimization"
   ]
  },
  {
   "cell_type": "markdown",
   "id": "125739ab",
   "metadata": {},
   "source": [
    "## Optimize for maximum sharpe ratio"
   ]
  },
  {
   "cell_type": "code",
   "execution_count": 59,
   "id": "2981042a",
   "metadata": {},
   "outputs": [],
   "source": [
    "from pypfopt import EfficientFrontier, objective_functions"
   ]
  },
  {
   "cell_type": "code",
   "execution_count": 60,
   "id": "9d2146ba",
   "metadata": {},
   "outputs": [
    {
     "data": {
      "text/plain": [
       "OrderedDict([('AAPL', 0.23238),\n",
       "             ('AMD', 0.0),\n",
       "             ('ATVI', 0.02865),\n",
       "             ('CELH', 0.0012),\n",
       "             ('JYNT', 0.15884),\n",
       "             ('LOVE', 0.07278),\n",
       "             ('NEGG', 0.01849),\n",
       "             ('NIO', 0.01541),\n",
       "             ('PLTR', 0.41669),\n",
       "             ('SOFI', 0.05556)])"
      ]
     },
     "execution_count": 60,
     "metadata": {},
     "output_type": "execute_result"
    }
   ],
   "source": [
    "ef = EfficientFrontier(ret_bl, S_bl)\n",
    "ef.max_sharpe()\n",
    "weights = ef.clean_weights()\n",
    "weights"
   ]
  },
  {
   "cell_type": "code",
   "execution_count": 61,
   "id": "473e7b7c",
   "metadata": {
    "scrolled": false
   },
   "outputs": [
    {
     "data": {
      "image/png": "[encoded data removed]",
      "text/plain": [
       "<Figure size 1080x720 with 1 Axes>"
      ]
     },
     "metadata": {},
     "output_type": "display_data"
    }
   ],
   "source": [
    "pd.Series(weights).plot.pie();"
   ]
  },
  {
   "cell_type": "code",
   "execution_count": 62,
   "id": "4317c901",
   "metadata": {},
   "outputs": [
    {
     "name": "stdout",
     "output_type": "stream",
     "text": [
      "Expected annual return: 24.3%\n",
      "Annual volatility: 14.0%\n",
      "Sharpe Ratio: 1.60\n"
     ]
    }
   ],
   "source": [
    "ef.portfolio_performance(verbose=True);"
   ]
  },
  {
   "cell_type": "code",
   "execution_count": 63,
   "id": "04d60dac",
   "metadata": {},
   "outputs": [
    {
     "name": "stdout",
     "output_type": "stream",
     "text": [
      "Leftover: $4.85\n"
     ]
    },
    {
     "data": {
      "text/plain": [
       "{'AAPL': 3,\n",
       " 'ATVI': 1,\n",
       " 'JYNT': 4,\n",
       " 'LOVE': 2,\n",
       " 'NEGG': 2,\n",
       " 'NIO': 1,\n",
       " 'PLTR': 39,\n",
       " 'SOFI': 6}"
      ]
     },
     "execution_count": 63,
     "metadata": {},
     "output_type": "execute_result"
    }
   ],
   "source": [
    "# Allocate capital into the portfolio\n",
    "from pypfopt import DiscreteAllocation\n",
    "\n",
    "latest_prices = prices.iloc[-1]\n",
    "da = DiscreteAllocation(weights, latest_prices, total_portfolio_value=2000)\n",
    "alloc, leftover = da.lp_portfolio()\n",
    "print(f\"Leftover: ${leftover:.2f}\")\n",
    "alloc"
   ]
  },
  {
   "cell_type": "markdown",
   "id": "1530584c",
   "metadata": {},
   "source": [
    "## Optimize for minimum volatility"
   ]
  },
  {
   "cell_type": "code",
   "execution_count": 64,
   "id": "36458765",
   "metadata": {},
   "outputs": [
    {
     "data": {
      "text/plain": [
       "OrderedDict([('AAPL', 0.02863),\n",
       "             ('AMD', 0.00582),\n",
       "             ('ATVI', 0.03759),\n",
       "             ('CELH', 0.00686),\n",
       "             ('JYNT', 0.12251),\n",
       "             ('LOVE', 0.07611),\n",
       "             ('NEGG', 0.01597),\n",
       "             ('NIO', 0.05199),\n",
       "             ('PLTR', 0.3542),\n",
       "             ('SOFI', 0.30031)])"
      ]
     },
     "execution_count": 64,
     "metadata": {},
     "output_type": "execute_result"
    }
   ],
   "source": [
    "ef = EfficientFrontier(ret_bl, S_bl)\n",
    "ef.min_volatility()\n",
    "weights = ef.clean_weights()\n",
    "weights"
   ]
  },
  {
   "cell_type": "code",
   "execution_count": 65,
   "id": "ff6582a4",
   "metadata": {},
   "outputs": [
    {
     "data": {
      "image/png": "[encoded data removed]",
      "text/plain": [
       "<Figure size 1080x720 with 1 Axes>"
      ]
     },
     "metadata": {},
     "output_type": "display_data"
    }
   ],
   "source": [
    "pd.Series(weights).plot.pie();"
   ]
  },
  {
   "cell_type": "code",
   "execution_count": 66,
   "id": "c0fc8f4d",
   "metadata": {},
   "outputs": [
    {
     "name": "stdout",
     "output_type": "stream",
     "text": [
      "Expected annual return: 13.0%\n",
      "Annual volatility: 9.8%\n",
      "Sharpe Ratio: 1.12\n"
     ]
    }
   ],
   "source": [
    "ef.portfolio_performance(verbose=True);"
   ]
  },
  {
   "cell_type": "code",
   "execution_count": 67,
   "id": "b6d58e1b",
   "metadata": {},
   "outputs": [
    {
     "name": "stdout",
     "output_type": "stream",
     "text": [
      "Leftover: $21.25\n"
     ]
    },
    {
     "data": {
      "text/plain": [
       "{'ATVI': 1, 'JYNT': 3, 'LOVE': 3, 'NEGG': 2, 'NIO': 3, 'PLTR': 34, 'SOFI': 33}"
      ]
     },
     "execution_count": 67,
     "metadata": {},
     "output_type": "execute_result"
    }
   ],
   "source": [
    "latest_prices = prices.iloc[-1]\n",
    "da = DiscreteAllocation(weights, latest_prices, total_portfolio_value=2000)\n",
    "alloc, leftover = da.lp_portfolio()\n",
    "print(f\"Leftover: ${leftover:.2f}\")\n",
    "alloc"
   ]
  },
  {
   "cell_type": "markdown",
   "id": "6cd756d0",
   "metadata": {},
   "source": [
    "## Add sector constraints to optimize for a better max-sharpe ratio"
   ]
  },
  {
   "cell_type": "code",
   "execution_count": 68,
   "id": "7c00103c",
   "metadata": {},
   "outputs": [],
   "source": [
    "sector_mapper = {\n",
    "    'PLTR':'online services', \n",
    "    'ATVI':'online services', \n",
    "    'AMD':'semiconductors', \n",
    "    'NEGG':'online services', \n",
    "    'AAPL':'phone & handheld devices',  \n",
    "    'LOVE':'home furnishings', \n",
    "    'NIO':'auto',\n",
    "    'JYNT':'healthcare', \n",
    "    'CELH':'beverages',\n",
    "    'SOFI':'finance'\n",
    "}\n",
    "\n",
    "sector_lower = {'online services': 0.15}\n",
    "sector_upper = {'online services':0.4}"
   ]
  },
  {
   "cell_type": "code",
   "execution_count": 69,
   "id": "871ba62b",
   "metadata": {},
   "outputs": [
    {
     "data": {
      "text/plain": [
       "OrderedDict([('AAPL', 0.23685),\n",
       "             ('AMD', 0.0),\n",
       "             ('ATVI', 0.02195),\n",
       "             ('CELH', 0.00187),\n",
       "             ('JYNT', 0.16966),\n",
       "             ('LOVE', 0.08135),\n",
       "             ('NEGG', 0.01621),\n",
       "             ('NIO', 0.0241),\n",
       "             ('PLTR', 0.36184),\n",
       "             ('SOFI', 0.08618)])"
      ]
     },
     "execution_count": 69,
     "metadata": {},
     "output_type": "execute_result"
    }
   ],
   "source": [
    "ef = EfficientFrontier(ret_bl, S_bl)\n",
    "ef.add_sector_constraints(sector_mapper, sector_lower, sector_upper)\n",
    "\n",
    "ef.max_sharpe()\n",
    "weights = ef.clean_weights()\n",
    "weights"
   ]
  },
  {
   "cell_type": "code",
   "execution_count": 70,
   "id": "dae176ae",
   "metadata": {},
   "outputs": [
    {
     "data": {
      "image/png": "[encoded data removed]",
      "text/plain": [
       "<Figure size 1080x720 with 1 Axes>"
      ]
     },
     "metadata": {},
     "output_type": "display_data"
    }
   ],
   "source": [
    "pd.Series(weights).plot.pie();"
   ]
  },
  {
   "cell_type": "code",
   "execution_count": 71,
   "id": "d6a421eb",
   "metadata": {},
   "outputs": [
    {
     "name": "stdout",
     "output_type": "stream",
     "text": [
      "Expected annual return: 24.2%\n",
      "Annual volatility: 13.9%\n",
      "Sharpe Ratio: 1.59\n"
     ]
    }
   ],
   "source": [
    "ef.portfolio_performance(verbose=True);"
   ]
  },
  {
   "cell_type": "code",
   "execution_count": 72,
   "id": "40151bc2",
   "metadata": {},
   "outputs": [
    {
     "name": "stdout",
     "output_type": "stream",
     "text": [
      "Leftover: $16.13\n"
     ]
    },
    {
     "data": {
      "text/plain": [
       "{'AAPL': 3,\n",
       " 'ATVI': 1,\n",
       " 'JYNT': 4,\n",
       " 'LOVE': 2,\n",
       " 'NEGG': 2,\n",
       " 'NIO': 1,\n",
       " 'PLTR': 35,\n",
       " 'SOFI': 10}"
      ]
     },
     "execution_count": 72,
     "metadata": {},
     "output_type": "execute_result"
    }
   ],
   "source": [
    "latest_prices = prices.iloc[-1]\n",
    "da = DiscreteAllocation(weights, latest_prices, total_portfolio_value=2000)\n",
    "alloc, leftover = da.lp_portfolio()\n",
    "print(f\"Leftover: ${leftover:.2f}\")\n",
    "alloc"
   ]
  },
  {
   "cell_type": "markdown",
   "id": "1d3ef58d",
   "metadata": {},
   "source": [
    "## Optimize the portfolio for a given volatility level "
   ]
  },
  {
   "cell_type": "code",
   "execution_count": 73,
   "id": "af85ccc2",
   "metadata": {},
   "outputs": [],
   "source": [
    "from pypfopt import objective_functions"
   ]
  },
  {
   "cell_type": "code",
   "execution_count": 74,
   "id": "7f9c9109",
   "metadata": {},
   "outputs": [
    {
     "data": {
      "text/plain": [
       "OrderedDict([('AAPL', 0.17439),\n",
       "             ('AMD', 0.00074),\n",
       "             ('ATVI', 0.02659),\n",
       "             ('CELH', 0.00341),\n",
       "             ('JYNT', 0.15588),\n",
       "             ('LOVE', 0.08019),\n",
       "             ('NEGG', 0.01605),\n",
       "             ('NIO', 0.03297),\n",
       "             ('PLTR', 0.35735),\n",
       "             ('SOFI', 0.15242)])"
      ]
     },
     "execution_count": 74,
     "metadata": {},
     "output_type": "execute_result"
    }
   ],
   "source": [
    "ef = EfficientFrontier(ret_bl, S_bl)\n",
    "ef.add_sector_constraints(sector_mapper, sector_lower, sector_upper)\n",
    "ef.efficient_risk(0.12) # we want a portfolio with at most 12% volatility\n",
    "weights = ef.clean_weights()\n",
    "weights"
   ]
  },
  {
   "cell_type": "code",
   "execution_count": 75,
   "id": "64a74e73",
   "metadata": {},
   "outputs": [
    {
     "data": {
      "image/png": "[encoded data removed]",
      "text/plain": [
       "<Figure size 1080x720 with 1 Axes>"
      ]
     },
     "metadata": {},
     "output_type": "display_data"
    }
   ],
   "source": [
    "pd.Series(weights).plot.pie();"
   ]
  },
  {
   "cell_type": "code",
   "execution_count": 76,
   "id": "34018186",
   "metadata": {},
   "outputs": [
    {
     "name": "stdout",
     "output_type": "stream",
     "text": [
      "Expected annual return: 20.8%\n",
      "Annual volatility: 12.0%\n",
      "Sharpe Ratio: 1.57\n"
     ]
    }
   ],
   "source": [
    "ef.portfolio_performance(verbose=True);"
   ]
  }
 ],
 "metadata": {
  "kernelspec": {
   "display_name": "Python 3",
   "language": "python",
   "name": "python3"
  },
  "language_info": {
   "codemirror_mode": {
    "name": "ipython",
    "version": 3
   },
   "file_extension": ".py",
   "mimetype": "text/x-python",
   "name": "python",
   "nbconvert_exporter": "python",
   "pygments_lexer": "ipython3",
   "version": "3.8.11"
  }
 },
 "nbformat": 4,
 "nbformat_minor": 5
}
