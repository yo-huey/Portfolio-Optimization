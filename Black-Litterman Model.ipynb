{
 "cells": [
  {
   "cell_type": "markdown",
   "id": "8eca1329",
   "metadata": {},
   "source": [
    "# Black-Litterman model\n",
    "\n",
    "An asset allocation model which is considered to be an adaptation of Modern Portfolio Theory, which only included market historical data, and constructs portfolios based on those returns.\n",
    "\n",
    "This model instead takes into account the investor's views of the asset's future performance, and constructs more optimal portfolios with those performance views."
   ]
  },
  {
   "cell_type": "markdown",
   "id": "555d1348",
   "metadata": {},
   "source": [
    "## Download stock data"
   ]
  },
  {
   "cell_type": "code",
   "execution_count": 43,
   "id": "eb98748e",
   "metadata": {
    "scrolled": false
   },
   "outputs": [],
   "source": [
    "# Import libraries\n",
    "import numpy as np\n",
    "import pandas as pd\n",
    "import matplotlib.pyplot as plt\n",
    "import yfinance as yf\n",
    "%matplotlib inline\n",
    "plt.rcParams['figure.figsize'] = [15, 10]"
   ]
  },
  {
   "cell_type": "code",
   "execution_count": 44,
   "id": "fffa7c72",
   "metadata": {},
   "outputs": [],
   "source": [
    "# Get the stock tickers\n",
    "tickers = ['PLTR', 'ATVI', 'NIO', 'NEGG', 'AAPL', 'LOVE', 'JYNT', 'CELH', 'AMD', 'SOFI']"
   ]
  },
  {
   "cell_type": "code",
   "execution_count": 45,
   "id": "71bf99a6",
   "metadata": {
    "scrolled": false
   },
   "outputs": [
    {
     "name": "stdout",
     "output_type": "stream",
     "text": [
      "[*********************100%***********************]  10 of 10 completed\n"
     ]
    },
    {
     "data": {
      "text/html": [
       "<div>\n",
       "<style scoped>\n",
       "    .dataframe tbody tr th:only-of-type {\n",
       "        vertical-align: middle;\n",
       "    }\n",
       "\n",
       "    .dataframe tbody tr th {\n",
       "        vertical-align: top;\n",
       "    }\n",
       "\n",
       "    .dataframe thead th {\n",
       "        text-align: right;\n",
       "    }\n",
       "</style>\n",
       "<table border=\"1\" class=\"dataframe\">\n",
       "  <thead>\n",
       "    <tr style=\"text-align: right;\">\n",
       "      <th></th>\n",
       "      <th>AAPL</th>\n",
       "      <th>AMD</th>\n",
       "      <th>ATVI</th>\n",
       "      <th>CELH</th>\n",
       "      <th>JYNT</th>\n",
       "      <th>LOVE</th>\n",
       "      <th>NEGG</th>\n",
       "      <th>NIO</th>\n",
       "      <th>PLTR</th>\n",
       "      <th>SOFI</th>\n",
       "    </tr>\n",
       "    <tr>\n",
       "      <th>Date</th>\n",
       "      <th></th>\n",
       "      <th></th>\n",
       "      <th></th>\n",
       "      <th></th>\n",
       "      <th></th>\n",
       "      <th></th>\n",
       "      <th></th>\n",
       "      <th></th>\n",
       "      <th></th>\n",
       "      <th></th>\n",
       "    </tr>\n",
       "  </thead>\n",
       "  <tbody>\n",
       "    <tr>\n",
       "      <th>2021-10-04</th>\n",
       "      <td>139.139999</td>\n",
       "      <td>100.339996</td>\n",
       "      <td>77.180000</td>\n",
       "      <td>90.620003</td>\n",
       "      <td>91.820000</td>\n",
       "      <td>65.800003</td>\n",
       "      <td>13.22</td>\n",
       "      <td>33.400002</td>\n",
       "      <td>23.170000</td>\n",
       "      <td>16.090000</td>\n",
       "    </tr>\n",
       "    <tr>\n",
       "      <th>2021-10-05</th>\n",
       "      <td>141.110001</td>\n",
       "      <td>101.809998</td>\n",
       "      <td>76.800003</td>\n",
       "      <td>94.919998</td>\n",
       "      <td>95.080002</td>\n",
       "      <td>70.809998</td>\n",
       "      <td>13.77</td>\n",
       "      <td>33.869999</td>\n",
       "      <td>23.209999</td>\n",
       "      <td>16.250000</td>\n",
       "    </tr>\n",
       "    <tr>\n",
       "      <th>2021-10-06</th>\n",
       "      <td>142.000000</td>\n",
       "      <td>103.639999</td>\n",
       "      <td>77.290001</td>\n",
       "      <td>94.459999</td>\n",
       "      <td>96.419998</td>\n",
       "      <td>72.150002</td>\n",
       "      <td>13.87</td>\n",
       "      <td>33.660000</td>\n",
       "      <td>23.580000</td>\n",
       "      <td>16.620001</td>\n",
       "    </tr>\n",
       "    <tr>\n",
       "      <th>2021-10-07</th>\n",
       "      <td>143.289993</td>\n",
       "      <td>106.449997</td>\n",
       "      <td>77.360001</td>\n",
       "      <td>97.620003</td>\n",
       "      <td>85.529999</td>\n",
       "      <td>71.320000</td>\n",
       "      <td>14.19</td>\n",
       "      <td>35.990002</td>\n",
       "      <td>23.730000</td>\n",
       "      <td>16.400000</td>\n",
       "    </tr>\n",
       "    <tr>\n",
       "      <th>2021-10-08</th>\n",
       "      <td>142.899994</td>\n",
       "      <td>105.059998</td>\n",
       "      <td>77.610001</td>\n",
       "      <td>94.099998</td>\n",
       "      <td>80.099998</td>\n",
       "      <td>71.830002</td>\n",
       "      <td>13.63</td>\n",
       "      <td>35.830002</td>\n",
       "      <td>23.500000</td>\n",
       "      <td>16.209999</td>\n",
       "    </tr>\n",
       "  </tbody>\n",
       "</table>\n",
       "</div>"
      ],
      "text/plain": [
       "                  AAPL         AMD       ATVI       CELH       JYNT  \\\n",
       "Date                                                                  \n",
       "2021-10-04  139.139999  100.339996  77.180000  90.620003  91.820000   \n",
       "2021-10-05  141.110001  101.809998  76.800003  94.919998  95.080002   \n",
       "2021-10-06  142.000000  103.639999  77.290001  94.459999  96.419998   \n",
       "2021-10-07  143.289993  106.449997  77.360001  97.620003  85.529999   \n",
       "2021-10-08  142.899994  105.059998  77.610001  94.099998  80.099998   \n",
       "\n",
       "                 LOVE   NEGG        NIO       PLTR       SOFI  \n",
       "Date                                                           \n",
       "2021-10-04  65.800003  13.22  33.400002  23.170000  16.090000  \n",
       "2021-10-05  70.809998  13.77  33.869999  23.209999  16.250000  \n",
       "2021-10-06  72.150002  13.87  33.660000  23.580000  16.620001  \n",
       "2021-10-07  71.320000  14.19  35.990002  23.730000  16.400000  \n",
       "2021-10-08  71.830002  13.63  35.830002  23.500000  16.209999  "
      ]
     },
     "execution_count": 45,
     "metadata": {},
     "output_type": "execute_result"
    }
   ],
   "source": [
    "# Download the adjusted closing prices of the stocks\n",
    "df = yf.download(tickers, period='max')\n",
    "prices = df['Adj Close']\n",
    "prices.tail()"
   ]
  },
  {
   "cell_type": "code",
   "execution_count": 46,
   "id": "f3d53b04",
   "metadata": {},
   "outputs": [
    {
     "name": "stdout",
     "output_type": "stream",
     "text": [
      "[*********************100%***********************]  1 of 1 completed\n"
     ]
    },
    {
     "data": {
      "text/plain": [
       "Date\n",
       "1993-01-29    25.717381\n",
       "1993-02-01    25.900303\n",
       "1993-02-02    25.955166\n",
       "1993-02-03    26.229532\n",
       "1993-02-04    26.339281\n",
       "Name: Adj Close, dtype: float64"
      ]
     },
     "execution_count": 46,
     "metadata": {},
     "output_type": "execute_result"
    }
   ],
   "source": [
    "# Get the Adjusted closing price of the S&P 500\n",
    "market_prices = yf.download('SPY', period='max')['Adj Close']\n",
    "market_prices.head()"
   ]
  },
  {
   "cell_type": "code",
   "execution_count": 47,
   "id": "ccf4e8df",
   "metadata": {},
   "outputs": [],
   "source": [
    "# Download data containing market caps of all the stocks \n",
    "from pandas_datareader import data\n",
    "\n",
    "mcaps = data.get_quote_yahoo(tickers)['marketCap']"
   ]
  },
  {
   "cell_type": "code",
   "execution_count": 48,
   "id": "59b6cf75",
   "metadata": {},
   "outputs": [
    {
     "data": {
      "text/plain": [
       "PLTR      45898321920\n",
       "ATVI      60357922816\n",
       "NIO       58712117248\n",
       "NEGG       5019915776\n",
       "AAPL    2362165428224\n",
       "LOVE       1085961856\n",
       "JYNT       1151525632\n",
       "CELH       7008784896\n",
       "AMD      127434620928\n",
       "SOFI      12962001920\n",
       "Name: marketCap, dtype: int64"
      ]
     },
     "execution_count": 48,
     "metadata": {},
     "output_type": "execute_result"
    }
   ],
   "source": [
    "mcaps"
   ]
  },
  {
   "cell_type": "markdown",
   "id": "49e695e4",
   "metadata": {},
   "source": [
    "## Getting market-implied returns"
   ]
  },
  {
   "cell_type": "code",
   "execution_count": 49,
   "id": "ee7f6bd4",
   "metadata": {},
   "outputs": [],
   "source": [
    "import pypfopt\n",
    "from pypfopt import black_litterman, risk_models\n",
    "from pypfopt import BlackLittermanModel, plotting"
   ]
  },
  {
   "cell_type": "code",
   "execution_count": 50,
   "id": "fd67e077",
   "metadata": {},
   "outputs": [
    {
     "data": {
      "text/plain": [
       "2.7432945672209192"
      ]
     },
     "execution_count": 50,
     "metadata": {},
     "output_type": "execute_result"
    }
   ],
   "source": [
    "# Get the market-implied risk aversion parameter\n",
    "# Use the Ledoit-Wolf shrinkage estimator\n",
    "\n",
    "S = risk_models.CovarianceShrinkage(prices).ledoit_wolf()\n",
    "delta = black_litterman.market_implied_risk_aversion(market_prices)\n",
    "delta"
   ]
  },
  {
   "cell_type": "code",
   "execution_count": 51,
   "id": "0d1a21c6",
   "metadata": {
    "scrolled": false
   },
   "outputs": [
    {
     "data": {
      "text/plain": [
       "<AxesSubplot:>"
      ]
     },
     "execution_count": 51,
     "metadata": {},
     "output_type": "execute_result"
    },
    {
     "data": {
      "image/png": "[encoded data removed]",
      "text/plain": [
       "<Figure size 1080x720 with 2 Axes>"
      ]
     },
     "metadata": {
      "needs_background": "light"
     },
     "output_type": "display_data"
    }
   ],
   "source": [
    "# Plot the covariance matrix\n",
    "plotting.plot_covariance(S, plot_correlation=True)"
   ]
  },
  {
   "cell_type": "code",
   "execution_count": 52,
   "id": "53a696fe",
   "metadata": {
    "scrolled": true
   },
   "outputs": [
    {
     "data": {
      "text/plain": [
       "AAPL    0.538585\n",
       "AMD     0.296138\n",
       "ATVI    0.129539\n",
       "CELH    0.077842\n",
       "JYNT    0.053718\n",
       "LOVE    0.055822\n",
       "NEGG    0.051477\n",
       "NIO     0.062023\n",
       "PLTR    0.044686\n",
       "SOFI    0.042735\n",
       "dtype: float64"
      ]
     },
     "execution_count": 52,
     "metadata": {},
     "output_type": "execute_result"
    }
   ],
   "source": [
    "# Get the prior estimate of returns implied by market weights \n",
    "market_prior = black_litterman.market_implied_prior_returns(mcaps, delta, S, risk_free_rate=0.04)\n",
    "market_prior"
   ]
  },
  {
   "cell_type": "code",
   "execution_count": 53,
   "id": "15be5908",
   "metadata": {},
   "outputs": [
    {
     "data": {
      "image/png": "[encoded data removed]",
      "text/plain": [
       "<Figure size 1080x720 with 1 Axes>"
      ]
     },
     "metadata": {
      "needs_background": "light"
     },
     "output_type": "display_data"
    }
   ],
   "source": [
    "# PLot the market-implied returns\n",
    "market_prior.plot.barh();"
   ]
  },
  {
   "cell_type": "markdown",
   "id": "aaaa81e9",
   "metadata": {},
   "source": [
    "## Provide absolute views of assets' performance"
   ]
  },
  {
   "cell_type": "code",
   "execution_count": 54,
   "id": "7fa2c57c",
   "metadata": {},
   "outputs": [],
   "source": [
    "viewdict = {\n",
    "    'AAPL':0.6,\n",
    "    'PLTR':0.2,\n",
    "    'ATVI':0.2,\n",
    "    'JYNT':0.2,\n",
    "    'LOVE':0.2,\n",
    "    'NEGG':0.2,\n",
    "    'NIO':0.1,\n",
    "    'CELH':0.1,\n",
    "    'AMD':0.2\n",
    "    \n",
    "}"
   ]
  },
  {
   "cell_type": "code",
   "execution_count": 55,
   "id": "6619e6d8",
   "metadata": {},
   "outputs": [],
   "source": [
    "# Provide confidence percentages of asset performance\n",
    "confidences = [\n",
    "    0.8,\n",
    "    0.6,\n",
    "    0.6,\n",
    "    0.7,\n",
    "    0.4,\n",
    "    0.6,\n",
    "    0.4,\n",
    "    0.4,\n",
    "    0.5\n",
    "]\n"
   ]
  },
  {
   "cell_type": "code",
   "execution_count": 56,
   "id": "3538ae6f",
   "metadata": {},
   "outputs": [],
   "source": [
    "# Input the Black-Litterman model \n",
    "bl = BlackLittermanModel(S, pi=market_prior, absolute_views=viewdict, omega='idzorek',\n",
    "                         view_confidences=confidences)"
   ]
  },
  {
   "cell_type": "code",
   "execution_count": 57,
   "id": "2ff9dd8a",
   "metadata": {},
   "outputs": [
    {
     "data": {
      "image/png": "[encoded data removed]",
      "text/plain": [
       "<Figure size 720x720 with 1 Axes>"
      ]
     },
     "metadata": {
      "needs_background": "light"
     },
     "output_type": "display_data"
    }
   ],
   "source": [
    "# Show the uncertainty matrix\n",
    "fig, ax = plt.subplots(figsize=(10,10))\n",
    "im = ax.imshow(bl.omega)\n",
    "\n",
    "# show all ticks\n",
    "ax.set_xticks(np.arange(len(bl.tickers)))\n",
    "ax.set_yticks(np.arange(len(bl.tickers)))\n",
    "\n",
    "ax.set_xticklabels(bl.tickers)\n",
    "ax.set_yticklabels(bl.tickers)\n",
    "plt.show()"
   ]
  },
  {
   "cell_type": "code",
   "execution_count": 58,
   "id": "a4cd3e71",
   "metadata": {},
   "outputs": [
    {
     "data": {
      "text/plain": [
       "array([0.00250911, 0.00072232, 0.00628933, 0.0012479 , 0.00494081,\n",
       "       0.01477191, 0.00625031, 0.05064063, 0.01756473])"
      ]
     },
     "execution_count": 58,
     "metadata": {},
     "output_type": "execute_result"
    }
   ],
   "source": [
    "np.diag(bl.omega)"
   ]
  },
  {
   "cell_type": "markdown",
   "id": "b5df6e98",
   "metadata": {},
   "source": [
    "## Posterior Estimates\n",
    "\n",
    "Compute posterior estimate of returns"
   ]
  },
  {
   "cell_type": "code",
   "execution_count": 59,
   "id": "885da07a",
   "metadata": {},
   "outputs": [
    {
     "data": {
      "text/plain": [
       "AAPL    0.589038\n",
       "AMD     0.272903\n",
       "ATVI    0.174039\n",
       "CELH    0.105942\n",
       "JYNT    0.159981\n",
       "LOVE    0.129592\n",
       "NEGG    0.145465\n",
       "NIO     0.098335\n",
       "PLTR    0.139486\n",
       "SOFI    0.055589\n",
       "dtype: float64"
      ]
     },
     "execution_count": 59,
     "metadata": {},
     "output_type": "execute_result"
    }
   ],
   "source": [
    "ret_bl = bl.bl_returns()\n",
    "ret_bl"
   ]
  },
  {
   "cell_type": "code",
   "execution_count": 60,
   "id": "0c54c1b9",
   "metadata": {},
   "outputs": [
    {
     "data": {
      "text/html": [
       "<div>\n",
       "<style scoped>\n",
       "    .dataframe tbody tr th:only-of-type {\n",
       "        vertical-align: middle;\n",
       "    }\n",
       "\n",
       "    .dataframe tbody tr th {\n",
       "        vertical-align: top;\n",
       "    }\n",
       "\n",
       "    .dataframe thead th {\n",
       "        text-align: right;\n",
       "    }\n",
       "</style>\n",
       "<table border=\"1\" class=\"dataframe\">\n",
       "  <thead>\n",
       "    <tr style=\"text-align: right;\">\n",
       "      <th></th>\n",
       "      <th>Prior</th>\n",
       "      <th>Posterior</th>\n",
       "      <th>Views</th>\n",
       "    </tr>\n",
       "  </thead>\n",
       "  <tbody>\n",
       "    <tr>\n",
       "      <th>AAPL</th>\n",
       "      <td>0.538585</td>\n",
       "      <td>0.589038</td>\n",
       "      <td>0.6</td>\n",
       "    </tr>\n",
       "    <tr>\n",
       "      <th>AMD</th>\n",
       "      <td>0.296138</td>\n",
       "      <td>0.272903</td>\n",
       "      <td>0.2</td>\n",
       "    </tr>\n",
       "    <tr>\n",
       "      <th>ATVI</th>\n",
       "      <td>0.129539</td>\n",
       "      <td>0.174039</td>\n",
       "      <td>0.2</td>\n",
       "    </tr>\n",
       "    <tr>\n",
       "      <th>CELH</th>\n",
       "      <td>0.077842</td>\n",
       "      <td>0.105942</td>\n",
       "      <td>0.1</td>\n",
       "    </tr>\n",
       "    <tr>\n",
       "      <th>JYNT</th>\n",
       "      <td>0.053718</td>\n",
       "      <td>0.159981</td>\n",
       "      <td>0.2</td>\n",
       "    </tr>\n",
       "    <tr>\n",
       "      <th>LOVE</th>\n",
       "      <td>0.055822</td>\n",
       "      <td>0.129592</td>\n",
       "      <td>0.2</td>\n",
       "    </tr>\n",
       "    <tr>\n",
       "      <th>NEGG</th>\n",
       "      <td>0.051477</td>\n",
       "      <td>0.145465</td>\n",
       "      <td>0.2</td>\n",
       "    </tr>\n",
       "    <tr>\n",
       "      <th>NIO</th>\n",
       "      <td>0.062023</td>\n",
       "      <td>0.098335</td>\n",
       "      <td>0.1</td>\n",
       "    </tr>\n",
       "    <tr>\n",
       "      <th>PLTR</th>\n",
       "      <td>0.044686</td>\n",
       "      <td>0.139486</td>\n",
       "      <td>0.2</td>\n",
       "    </tr>\n",
       "    <tr>\n",
       "      <th>SOFI</th>\n",
       "      <td>0.042735</td>\n",
       "      <td>0.055589</td>\n",
       "      <td>NaN</td>\n",
       "    </tr>\n",
       "  </tbody>\n",
       "</table>\n",
       "</div>"
      ],
      "text/plain": [
       "         Prior  Posterior  Views\n",
       "AAPL  0.538585   0.589038    0.6\n",
       "AMD   0.296138   0.272903    0.2\n",
       "ATVI  0.129539   0.174039    0.2\n",
       "CELH  0.077842   0.105942    0.1\n",
       "JYNT  0.053718   0.159981    0.2\n",
       "LOVE  0.055822   0.129592    0.2\n",
       "NEGG  0.051477   0.145465    0.2\n",
       "NIO   0.062023   0.098335    0.1\n",
       "PLTR  0.044686   0.139486    0.2\n",
       "SOFI  0.042735   0.055589    NaN"
      ]
     },
     "execution_count": 60,
     "metadata": {},
     "output_type": "execute_result"
    }
   ],
   "source": [
    "# Visualize the comparison between prior and posterior views\n",
    "rets_df = pd.DataFrame([market_prior, ret_bl, pd.Series(viewdict)],\n",
    "                      index=['Prior', 'Posterior','Views']).T\n",
    "rets_df"
   ]
  },
  {
   "cell_type": "code",
   "execution_count": 61,
   "id": "cf9f664d",
   "metadata": {},
   "outputs": [
    {
     "data": {
      "image/png": "[encoded data removed]",
      "text/plain": [
       "<Figure size 1080x720 with 1 Axes>"
      ]
     },
     "metadata": {
      "needs_background": "light"
     },
     "output_type": "display_data"
    }
   ],
   "source": [
    "# Plot the above\n",
    "rets_df.plot.bar();"
   ]
  },
  {
   "cell_type": "code",
   "execution_count": 62,
   "id": "e7aea8cd",
   "metadata": {},
   "outputs": [
    {
     "data": {
      "image/png": "[encoded data removed]",
      "text/plain": [
       "<Figure size 1080x720 with 2 Axes>"
      ]
     },
     "metadata": {
      "needs_background": "light"
     },
     "output_type": "display_data"
    }
   ],
   "source": [
    "# Plot covariance matrix\n",
    "S_bl = bl.bl_cov()\n",
    "plotting.plot_covariance(S_bl);"
   ]
  },
  {
   "cell_type": "markdown",
   "id": "b72b8057",
   "metadata": {},
   "source": [
    "# Portfolio Optimization"
   ]
  },
  {
   "cell_type": "markdown",
   "id": "125739ab",
   "metadata": {},
   "source": [
    "## Optimize for maximum sharpe ratio"
   ]
  },
  {
   "cell_type": "code",
   "execution_count": 63,
   "id": "2981042a",
   "metadata": {},
   "outputs": [],
   "source": [
    "from pypfopt import EfficientFrontier, objective_functions"
   ]
  },
  {
   "cell_type": "code",
   "execution_count": 64,
   "id": "9d2146ba",
   "metadata": {},
   "outputs": [
    {
     "data": {
      "text/plain": [
       "OrderedDict([('AAPL', 0.22523),\n",
       "             ('AMD', 0.0),\n",
       "             ('ATVI', 0.02837),\n",
       "             ('CELH', 0.00138),\n",
       "             ('JYNT', 0.15719),\n",
       "             ('LOVE', 0.07323),\n",
       "             ('NEGG', 0.01895),\n",
       "             ('NIO', 0.01532),\n",
       "             ('PLTR', 0.41947),\n",
       "             ('SOFI', 0.06088)])"
      ]
     },
     "execution_count": 64,
     "metadata": {},
     "output_type": "execute_result"
    }
   ],
   "source": [
    "ef = EfficientFrontier(ret_bl, S_bl)\n",
    "ef.max_sharpe()\n",
    "weights = ef.clean_weights()\n",
    "weights"
   ]
  },
  {
   "cell_type": "code",
   "execution_count": 65,
   "id": "473e7b7c",
   "metadata": {
    "scrolled": false
   },
   "outputs": [
    {
     "data": {
      "image/png": "[encoded data removed]",
      "text/plain": [
       "<Figure size 1080x720 with 1 Axes>"
      ]
     },
     "metadata": {},
     "output_type": "display_data"
    }
   ],
   "source": [
    "pd.Series(weights).plot.pie();"
   ]
  },
  {
   "cell_type": "code",
   "execution_count": 66,
   "id": "4317c901",
   "metadata": {},
   "outputs": [
    {
     "name": "stdout",
     "output_type": "stream",
     "text": [
      "Expected annual return: 23.9%\n",
      "Annual volatility: 13.6%\n",
      "Sharpe Ratio: 1.60\n"
     ]
    }
   ],
   "source": [
    "ef.portfolio_performance(verbose=True);"
   ]
  },
  {
   "cell_type": "code",
   "execution_count": 67,
   "id": "04d60dac",
   "metadata": {},
   "outputs": [
    {
     "name": "stdout",
     "output_type": "stream",
     "text": [
      "Leftover: $0.73\n"
     ]
    },
    {
     "data": {
      "text/plain": [
       "{'AAPL': 3,\n",
       " 'ATVI': 1,\n",
       " 'JYNT': 4,\n",
       " 'LOVE': 2,\n",
       " 'NEGG': 3,\n",
       " 'NIO': 1,\n",
       " 'PLTR': 35,\n",
       " 'SOFI': 8}"
      ]
     },
     "execution_count": 67,
     "metadata": {},
     "output_type": "execute_result"
    }
   ],
   "source": [
    "# Allocate capital into the portfolio\n",
    "from pypfopt import DiscreteAllocation\n",
    "\n",
    "latest_prices = prices.iloc[-1]\n",
    "da = DiscreteAllocation(weights, latest_prices, total_portfolio_value=2000)\n",
    "alloc, leftover = da.lp_portfolio()\n",
    "print(f\"Leftover: ${leftover:.2f}\")\n",
    "alloc"
   ]
  },
  {
   "cell_type": "markdown",
   "id": "1530584c",
   "metadata": {},
   "source": [
    "## Optimize for minimum volatility"
   ]
  },
  {
   "cell_type": "code",
   "execution_count": 68,
   "id": "36458765",
   "metadata": {},
   "outputs": [
    {
     "data": {
      "text/plain": [
       "OrderedDict([('AAPL', 0.02618),\n",
       "             ('AMD', 0.00612),\n",
       "             ('ATVI', 0.03531),\n",
       "             ('CELH', 0.00667),\n",
       "             ('JYNT', 0.11808),\n",
       "             ('LOVE', 0.0752),\n",
       "             ('NEGG', 0.01648),\n",
       "             ('NIO', 0.04893),\n",
       "             ('PLTR', 0.34833),\n",
       "             ('SOFI', 0.31868)])"
      ]
     },
     "execution_count": 68,
     "metadata": {},
     "output_type": "execute_result"
    }
   ],
   "source": [
    "ef = EfficientFrontier(ret_bl, S_bl)\n",
    "ef.min_volatility()\n",
    "weights = ef.clean_weights()\n",
    "weights"
   ]
  },
  {
   "cell_type": "code",
   "execution_count": 69,
   "id": "ff6582a4",
   "metadata": {},
   "outputs": [
    {
     "name": "stderr",
     "output_type": "stream",
     "text": [
      "C:\\Users\\Huy Doan\\anaconda3\\envs\\quant\\lib\\site-packages\\pandas\\plotting\\_matplotlib\\core.py:1616: MatplotlibDeprecationWarning: normalize=None does not normalize if the sum is less than 1 but this behavior is deprecated since 3.3 until two minor releases later. After the deprecation period the default value will be normalize=True. To prevent normalization pass normalize=False \n",
      "  results = ax.pie(y, labels=blabels, **kwds)\n"
     ]
    },
    {
     "data": {
      "image/png": "[encoded data removed]",
      "text/plain": [
       "<Figure size 1080x720 with 1 Axes>"
      ]
     },
     "metadata": {},
     "output_type": "display_data"
    }
   ],
   "source": [
    "pd.Series(weights).plot.pie();"
   ]
  },
  {
   "cell_type": "code",
   "execution_count": 70,
   "id": "c0fc8f4d",
   "metadata": {},
   "outputs": [
    {
     "name": "stdout",
     "output_type": "stream",
     "text": [
      "Expected annual return: 12.6%\n",
      "Annual volatility: 9.5%\n",
      "Sharpe Ratio: 1.12\n"
     ]
    }
   ],
   "source": [
    "ef.portfolio_performance(verbose=True);"
   ]
  },
  {
   "cell_type": "code",
   "execution_count": 71,
   "id": "b6d58e1b",
   "metadata": {},
   "outputs": [
    {
     "name": "stdout",
     "output_type": "stream",
     "text": [
      "Leftover: $36.65\n"
     ]
    },
    {
     "data": {
      "text/plain": [
       "{'ATVI': 1, 'JYNT': 3, 'LOVE': 2, 'NEGG': 3, 'NIO': 3, 'PLTR': 30, 'SOFI': 40}"
      ]
     },
     "execution_count": 71,
     "metadata": {},
     "output_type": "execute_result"
    }
   ],
   "source": [
    "latest_prices = prices.iloc[-1]\n",
    "da = DiscreteAllocation(weights, latest_prices, total_portfolio_value=2000)\n",
    "alloc, leftover = da.lp_portfolio()\n",
    "print(f\"Leftover: ${leftover:.2f}\")\n",
    "alloc"
   ]
  },
  {
   "cell_type": "markdown",
   "id": "6cd756d0",
   "metadata": {},
   "source": [
    "## Add sector constraints to optimize for a better max-sharpe ratio"
   ]
  },
  {
   "cell_type": "code",
   "execution_count": 72,
   "id": "7c00103c",
   "metadata": {},
   "outputs": [],
   "source": [
    "sector_mapper = {\n",
    "    'PLTR':'online services', \n",
    "    'ATVI':'online services', \n",
    "    'AMD':'semiconductors', \n",
    "    'NEGG':'online services', \n",
    "    'AAPL':'phone & handheld devices',  \n",
    "    'LOVE':'home furnishings', \n",
    "    'NIO':'auto',\n",
    "    'JYNT':'healthcare', \n",
    "    'CELH':'beverages',\n",
    "    'SOFI':'finance'\n",
    "}\n",
    "\n",
    "sector_lower = {'online services': 0.15}\n",
    "sector_upper = {'online services':0.4}"
   ]
  },
  {
   "cell_type": "code",
   "execution_count": 73,
   "id": "871ba62b",
   "metadata": {},
   "outputs": [
    {
     "data": {
      "text/plain": [
       "OrderedDict([('AAPL', 0.22945),\n",
       "             ('AMD', 0.0),\n",
       "             ('ATVI', 0.02146),\n",
       "             ('CELH', 0.00206),\n",
       "             ('JYNT', 0.16835),\n",
       "             ('LOVE', 0.08206),\n",
       "             ('NEGG', 0.01647),\n",
       "             ('NIO', 0.0241),\n",
       "             ('PLTR', 0.36207),\n",
       "             ('SOFI', 0.09398)])"
      ]
     },
     "execution_count": 73,
     "metadata": {},
     "output_type": "execute_result"
    }
   ],
   "source": [
    "ef = EfficientFrontier(ret_bl, S_bl)\n",
    "ef.add_sector_constraints(sector_mapper, sector_lower, sector_upper)\n",
    "\n",
    "ef.max_sharpe()\n",
    "weights = ef.clean_weights()\n",
    "weights"
   ]
  },
  {
   "cell_type": "code",
   "execution_count": 74,
   "id": "dae176ae",
   "metadata": {},
   "outputs": [
    {
     "data": {
      "image/png": "[encoded data removed]",
      "text/plain": [
       "<Figure size 1080x720 with 1 Axes>"
      ]
     },
     "metadata": {},
     "output_type": "display_data"
    }
   ],
   "source": [
    "pd.Series(weights).plot.pie();"
   ]
  },
  {
   "cell_type": "code",
   "execution_count": 75,
   "id": "d6a421eb",
   "metadata": {},
   "outputs": [
    {
     "name": "stdout",
     "output_type": "stream",
     "text": [
      "Expected annual return: 23.7%\n",
      "Annual volatility: 13.6%\n",
      "Sharpe Ratio: 1.60\n"
     ]
    }
   ],
   "source": [
    "ef.portfolio_performance(verbose=True);"
   ]
  },
  {
   "cell_type": "code",
   "execution_count": 76,
   "id": "40151bc2",
   "metadata": {},
   "outputs": [
    {
     "name": "stdout",
     "output_type": "stream",
     "text": [
      "Leftover: $7.69\n"
     ]
    },
    {
     "data": {
      "text/plain": [
       "{'AAPL': 3,\n",
       " 'ATVI': 1,\n",
       " 'JYNT': 4,\n",
       " 'LOVE': 2,\n",
       " 'NEGG': 2,\n",
       " 'NIO': 2,\n",
       " 'PLTR': 31,\n",
       " 'SOFI': 12}"
      ]
     },
     "execution_count": 76,
     "metadata": {},
     "output_type": "execute_result"
    }
   ],
   "source": [
    "latest_prices = prices.iloc[-1]\n",
    "da = DiscreteAllocation(weights, latest_prices, total_portfolio_value=2000)\n",
    "alloc, leftover = da.lp_portfolio()\n",
    "print(f\"Leftover: ${leftover:.2f}\")\n",
    "alloc"
   ]
  },
  {
   "cell_type": "markdown",
   "id": "1d3ef58d",
   "metadata": {},
   "source": [
    "## Optimize the portfolio for a given volatility level "
   ]
  },
  {
   "cell_type": "code",
   "execution_count": 77,
   "id": "af85ccc2",
   "metadata": {},
   "outputs": [],
   "source": [
    "from pypfopt import objective_functions"
   ]
  },
  {
   "cell_type": "code",
   "execution_count": 78,
   "id": "7f9c9109",
   "metadata": {},
   "outputs": [
    {
     "data": {
      "text/plain": [
       "OrderedDict([('AAPL', 0.1796),\n",
       "             ('AMD', 0.0),\n",
       "             ('ATVI', 0.02513),\n",
       "             ('CELH', 0.00322),\n",
       "             ('JYNT', 0.15602),\n",
       "             ('LOVE', 0.08052),\n",
       "             ('NEGG', 0.01647),\n",
       "             ('NIO', 0.03043),\n",
       "             ('PLTR', 0.3584),\n",
       "             ('SOFI', 0.15021)])"
      ]
     },
     "execution_count": 78,
     "metadata": {},
     "output_type": "execute_result"
    }
   ],
   "source": [
    "ef = EfficientFrontier(ret_bl, S_bl)\n",
    "ef.add_sector_constraints(sector_mapper, sector_lower, sector_upper)\n",
    "ef.efficient_risk(0.12) # we want a portfolio with at most 12% volatility\n",
    "weights = ef.clean_weights()\n",
    "weights"
   ]
  },
  {
   "cell_type": "code",
   "execution_count": 79,
   "id": "64a74e73",
   "metadata": {},
   "outputs": [
    {
     "data": {
      "image/png": "[encoded data removed]",
      "text/plain": [
       "<Figure size 1080x720 with 1 Axes>"
      ]
     },
     "metadata": {},
     "output_type": "display_data"
    }
   ],
   "source": [
    "pd.Series(weights).plot.pie();"
   ]
  },
  {
   "cell_type": "code",
   "execution_count": 80,
   "id": "34018186",
   "metadata": {},
   "outputs": [
    {
     "name": "stdout",
     "output_type": "stream",
     "text": [
      "Expected annual return: 21.0%\n",
      "Annual volatility: 12.0%\n",
      "Sharpe Ratio: 1.58\n"
     ]
    }
   ],
   "source": [
    "ef.portfolio_performance(verbose=True);"
   ]
  }
 ],
 "metadata": {
  "kernelspec": {
   "display_name": "Python 3",
   "language": "python",
   "name": "python3"
  },
  "language_info": {
   "codemirror_mode": {
    "name": "ipython",
    "version": 3
   },
   "file_extension": ".py",
   "mimetype": "text/x-python",
   "name": "python",
   "nbconvert_exporter": "python",
   "pygments_lexer": "ipython3",
   "version": "3.8.11"
  }
 },
 "nbformat": 4,
 "nbformat_minor": 5
}
